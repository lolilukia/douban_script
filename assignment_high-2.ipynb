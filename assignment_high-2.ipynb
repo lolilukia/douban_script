{
 "cells": [
  {
   "cell_type": "markdown",
   "metadata": {
    "deletable": false,
    "editable": false,
    "nbgrader": {
     "checksum": "736d925183f52faed339210ed75b406e",
     "grade": false,
     "grade_id": "intro",
     "locked": true,
     "schema_version": 1,
     "solution": false
    }
   },
   "source": [
    "# Module 5 Assignment\n",
    "\n",
    "A few things you should keep in mind when working on assignments:\n",
    "\n",
    "1. Make sure you fill in any place that says `YOUR CODE HERE`. Do **not** write your answer in anywhere else other than where it says `YOUR CODE HERE`. Anything you write anywhere else will be removed or overwritten by the autograder.\n",
    "\n",
    "2. Before you submit your assignment, make sure everything runs as expected. Go to menubar, select _Kernel_, and restart the kernel and run all cells (_Restart & Run all_).\n",
    "\n",
    "3. Do not change the title (i.e. file name) of this notebook.\n",
    "\n",
    "4. Make sure that you save your work (in the menubar, select _File_ → _Save and CheckPoint_)\n",
    "\n",
    "5. You are allowed to submit an assignment multiple times, but only the most recent submission will be graded."
   ]
  },
  {
   "cell_type": "code",
   "execution_count": null,
   "metadata": {
    "deletable": false,
    "editable": false,
    "nbgrader": {
     "checksum": "bb267793c784356e7ed5c3375107345c",
     "grade": false,
     "grade_id": "cell-4ed76a2187f05860",
     "locked": true,
     "schema_version": 1,
     "solution": false
    }
   },
   "outputs": [],
   "source": [
    "import pandas as pd\n",
    "\n",
    "import sys\n",
    "\n",
    "from nose.tools import assert_equal, assert_almost_equal\n",
    "from nose.tools import assert_equal, assert_is_instance, assert_is_not\n",
    "\n",
    "import warnings\n",
    "warnings.filterwarnings('ignore')\n",
    "\n",
    "import json\n",
    "import xml.etree.ElementTree as ET\n",
    "\n",
    "import csv"
   ]
  },
  {
   "cell_type": "markdown",
   "metadata": {
    "deletable": false,
    "editable": false,
    "nbgrader": {
     "checksum": "cb811439d1a9f8fb03313ff1c558ae7c",
     "grade": false,
     "grade_id": "cell-7e55534978271dfd",
     "locked": true,
     "schema_version": 1,
     "solution": false
    }
   },
   "source": [
    "# Problem 1: Reading a space delimited file\n",
    "\n",
    "- Write a function called \"read_file_space\" that takes in a file name and uses the Python csv module to read it in row by row. Assume that the file is space delimited. Note that the file will return a nest list - a list where each element of the list is also a list.\n"
   ]
  },
  {
   "cell_type": "code",
   "execution_count": null,
   "metadata": {
    "deletable": false,
    "nbgrader": {
     "checksum": "e95e1722735ecabb4e931169767d985d",
     "grade": false,
     "grade_id": "p1-answer",
     "locked": false,
     "schema_version": 1,
     "solution": true
    }
   },
   "outputs": [],
   "source": [
    "def read_file_space(data_file):\n",
    "    '''\n",
    "    A function which reads a space delimited file.\n",
    "    \n",
    "    \n",
    "    Parameters\n",
    "    -------\n",
    "    data_file: a string, the name of the file to be read in\n",
    "    \n",
    "    \n",
    "    Returns\n",
    "    --------\n",
    "    \n",
    "    data: a list where each element of the list contains a row of the data file\n",
    "    \n",
    "    '''\n",
    "    \n",
    "    # YOUR CODE HERE\n",
    "    \n",
    "    return data"
   ]
  },
  {
   "cell_type": "code",
   "execution_count": null,
   "metadata": {
    "deletable": false,
    "editable": false,
    "nbgrader": {
     "checksum": "d160103091d32fee2c1a04ccfb89e708",
     "grade": false,
     "grade_id": "cell-8fee96bbd2a3c703",
     "locked": true,
     "schema_version": 1,
     "solution": false
    }
   },
   "outputs": [],
   "source": [
    "data_file = './data/dow_jones_index.data'\n",
    "data = read_file_space(data_file)"
   ]
  },
  {
   "cell_type": "code",
   "execution_count": null,
   "metadata": {
    "deletable": false,
    "editable": false,
    "nbgrader": {
     "checksum": "169eb3f6e76584b2833d1cd5f60bce35",
     "grade": true,
     "grade_id": "p1-test",
     "locked": true,
     "points": 1,
     "schema_version": 1,
     "solution": false
    }
   },
   "outputs": [],
   "source": [
    "assert_is_instance(data,list,msg='Your result is not a list')\n",
    "assert_equal(len(data),751,msg='Some rows of the dataset are missing. Make sure you arent skipping any rows and make sure you specified the right delimiter.')\n",
    "assert_equal(data[0][0][0],'q',msg='The dataset was not read in correctly. Make sure you specified the right delimiter.')"
   ]
  },
  {
   "cell_type": "markdown",
   "metadata": {
    "deletable": false,
    "editable": false,
    "nbgrader": {
     "checksum": "34b1d0355e3a34cee7be5cba3b899f6c",
     "grade": false,
     "grade_id": "cell-598fa657cd84f2aa",
     "locked": true,
     "schema_version": 1,
     "solution": false
    }
   },
   "source": [
    "# Problem 2: Get column names from a csv file.\n",
    "\n",
    "- Write a function called \"get_column_names\" which uses the Python csv module to take in a comma separated file as input and returns the column names of the file as a Python list.\n",
    "\n",
    "\n",
    "- You can assume that the column names (or equivalently, the header) are contained in the *first line* of the file which is being read."
   ]
  },
  {
   "cell_type": "code",
   "execution_count": null,
   "metadata": {
    "deletable": false,
    "nbgrader": {
     "checksum": "e367c78595e23fe4ce84eba55173684b",
     "grade": false,
     "grade_id": "p2-answer",
     "locked": false,
     "schema_version": 1,
     "solution": true
    }
   },
   "outputs": [],
   "source": [
    "def get_column_names(data_file):\n",
    "    '''\n",
    "    A function which reads in a csv file and returns the column names.\n",
    "    \n",
    "    \n",
    "    Parameters\n",
    "    -------\n",
    "    data_file: a string, the name of the file to be read in\n",
    "    \n",
    "    \n",
    "    Returns\n",
    "    --------\n",
    "    \n",
    "    data: a list where each element of the list contains a row of the data file\n",
    "    \n",
    "    '''\n",
    "    \n",
    "    \n",
    "    # YOUR CODE HERE\n",
    "    \n",
    "    return data[0]"
   ]
  },
  {
   "cell_type": "code",
   "execution_count": null,
   "metadata": {
    "deletable": false,
    "editable": false,
    "nbgrader": {
     "checksum": "14f4d21e2ab7c9d05f82c4b09134efa2",
     "grade": true,
     "grade_id": "p2-test",
     "locked": true,
     "points": 1,
     "schema_version": 1,
     "solution": false
    }
   },
   "outputs": [],
   "source": [
    "data_file = './data/dow_jones_index.data'\n",
    "column_names = get_column_names(data_file)\n",
    "\n",
    "true_names = ['quarter','stock','date','open','high','low','close','volume','percent_change_price',\n",
    " 'percent_change_volume_over_last_wk','previous_weeks_volume','next_weeks_open','next_weeks_close',\n",
    " 'percent_change_next_weeks_price','days_to_next_dividend','percent_return_next_dividend']\n",
    "\n",
    "assert_equal(true_names,column_names,msg='The column names are not correct. Make sure you specified the delimiter and'\n",
    "             'that you took the correct row from the file.')\n",
    "\n",
    "assert_is_instance(column_names,list,msg='Your function should return a list containing the column names.')"
   ]
  },
  {
   "cell_type": "markdown",
   "metadata": {
    "deletable": false,
    "editable": false,
    "nbgrader": {
     "checksum": "a9b2c12d2ea9839f491d785a3735b293",
     "grade": false,
     "grade_id": "cell-5e9d917cd331cd07",
     "locked": true,
     "schema_version": 1,
     "solution": false
    }
   },
   "source": [
    "# Problem 3: Read in a JSON file.\n",
    "\n",
    "\n",
    "- Write a function called \"read_json\" which reads in a .json file containing data.\n",
    "\n",
    "\n",
    "- Use the Python json module to read in the file. This module has already been imported as json.\n"
   ]
  },
  {
   "cell_type": "code",
   "execution_count": null,
   "metadata": {
    "deletable": false,
    "nbgrader": {
     "checksum": "914be253b44695fe9b19c31b0820df21",
     "grade": false,
     "grade_id": "p3-answer",
     "locked": false,
     "schema_version": 1,
     "solution": true
    }
   },
   "outputs": [],
   "source": [
    "def read_json(data_file):\n",
    "    '''\n",
    "    A function which reads in a JSON file.\n",
    "    \n",
    "    \n",
    "    Parameters\n",
    "    -------\n",
    "    data_file: a string, the name of the file to be read in.\n",
    "    \n",
    "    \n",
    "    Returns\n",
    "    --------\n",
    "    \n",
    "    data: a Python list containing the read in data from the json file.\n",
    "    \n",
    "    '''\n",
    "    \n",
    "    \n",
    "    # YOUR CODE HERE\n",
    "    \n",
    "    return data"
   ]
  },
  {
   "cell_type": "code",
   "execution_count": null,
   "metadata": {},
   "outputs": [],
   "source": [
    "data_file = './data/dow_jones.json'\n",
    "data = read_json(data_file)"
   ]
  },
  {
   "cell_type": "code",
   "execution_count": null,
   "metadata": {
    "deletable": false,
    "editable": false,
    "nbgrader": {
     "checksum": "fd139aa0671cdad3e1e585243a44981d",
     "grade": true,
     "grade_id": "p3-test",
     "locked": true,
     "points": 1,
     "schema_version": 1,
     "solution": false
    }
   },
   "outputs": [],
   "source": [
    "data_file = './data/dow_jones.json'\n",
    "data = read_json(data_file)\n",
    "\n",
    "assert_equal(len(data),751,msg='Some rows of the dataset are missing.'\n",
    "             'Make sure you arent skipping any rows.')\n",
    "assert_is_instance(data,list,msg='Your function should return a lists.')"
   ]
  },
  {
   "cell_type": "markdown",
   "metadata": {
    "deletable": false,
    "editable": false,
    "nbgrader": {
     "checksum": "e1809041bda30c537bc0bf5042fa1ee4",
     "grade": false,
     "grade_id": "p4-text",
     "locked": true,
     "schema_version": 1,
     "solution": false
    }
   },
   "source": [
    "# Problem 4: Write a JSON file.\n",
    "\n",
    "\n",
    "- Write a function called \"read_json\" which reads in a .json file containing data.\n",
    "\n",
    "\n",
    "- Use the Python json module to read in the file. This module has already been imported as json.\n"
   ]
  },
  {
   "cell_type": "code",
   "execution_count": null,
   "metadata": {
    "deletable": false,
    "nbgrader": {
     "checksum": "5755887dad7a171797ce1df1334fc2f8",
     "grade": false,
     "grade_id": "p4-answer",
     "locked": false,
     "schema_version": 1,
     "solution": true
    }
   },
   "outputs": [],
   "source": [
    "def write_json(file_name,data):\n",
    "    '''\n",
    "    A function which reads in a JSON file.\n",
    "    \n",
    "    \n",
    "    Parameters\n",
    "    -------\n",
    "    data_file: a string, the name of the file to be read in.\n",
    "    \n",
    "    \n",
    "    Returns\n",
    "    --------\n",
    "    \n",
    "    data: a Python list containing the read in data from the json file.\n",
    "    \n",
    "    '''\n",
    "    \n",
    "    \n",
    "    # YOUR CODE HERE\n",
    "    \n",
    "    return 0 "
   ]
  },
  {
   "cell_type": "code",
   "execution_count": null,
   "metadata": {
    "deletable": false,
    "editable": false,
    "nbgrader": {
     "checksum": "b7f61cd178d132b2715c5b5c33c9cb97",
     "grade": false,
     "grade_id": "cell-ad909c8061b4d2d7",
     "locked": true,
     "schema_version": 1,
     "solution": false
    }
   },
   "outputs": [],
   "source": [
    "#Write our json file\n",
    "file_name = 'dowjones_local.json'\n",
    "data = write_json(file_name,data)"
   ]
  },
  {
   "cell_type": "code",
   "execution_count": null,
   "metadata": {
    "deletable": false,
    "editable": false,
    "nbgrader": {
     "checksum": "4ff89c0b183bf52a47c1e4724bbaa1e8",
     "grade": true,
     "grade_id": "p4-test",
     "locked": true,
     "points": 1,
     "schema_version": 1,
     "solution": false
    }
   },
   "outputs": [],
   "source": [
    "#let's us our \"read_json\" function to see if we can read in the json file we saved\n",
    "try:\n",
    "    data = read_json(file_name)\n",
    "except FileNotFoundError:\n",
    "    print('File not found. It looks like the data was not saved correctly')\n",
    "\n",
    "assert_equal(len(data),751,msg='Some rows of the dataset are missing.'\n",
    "             'Make sure you arent skipping any rows when saving the file.')"
   ]
  },
  {
   "cell_type": "code",
   "execution_count": null,
   "metadata": {},
   "outputs": [],
   "source": [
    "#Remove the json file that we saved to clear up space\n",
    "import os\n",
    "os.remove('dowjones_local.json')\n",
    "print('File removed!')"
   ]
  },
  {
   "cell_type": "markdown",
   "metadata": {
    "deletable": false,
    "editable": false,
    "nbgrader": {
     "checksum": "81e67d916ee7d6287da6567688df2026",
     "grade": false,
     "grade_id": "cell-01389beb48257774",
     "locked": true,
     "schema_version": 1,
     "solution": false
    }
   },
   "source": [
    "# Problem 5: Working with XML formatted data.\n",
    "\n",
    "\n",
    "- Write a function called \"read_book_xml\" which reads in a .xml dataset containing information about several books, and returns the name of the book in a Python list.\n",
    "\n",
    "\n",
    "- Assume that the xml functionality in Python has been imported as \"ET\".\n",
    "\n",
    "\n",
    "- Assume that within the .xml file, the name of the book is in an element called \"book\".\n",
    "\n",
    "\n",
    "- Assume that within the \"book\" element, the title is the 2nd element."
   ]
  },
  {
   "cell_type": "code",
   "execution_count": null,
   "metadata": {
    "deletable": false,
    "nbgrader": {
     "checksum": "193e2462393919e365618b9986c0ce8b",
     "grade": false,
     "grade_id": "p5-answer",
     "locked": false,
     "schema_version": 1,
     "solution": true
    }
   },
   "outputs": [],
   "source": [
    "def read_book_xml(data_file):\n",
    "    '''\n",
    "    A function which reads in an xml containing author and book information and returns the list of book titles.\n",
    "    \n",
    "    \n",
    "    Parameters\n",
    "    -------\n",
    "    data_file: a string, the name of the file to be read in.\n",
    "    \n",
    "    \n",
    "    Returns\n",
    "    --------\n",
    "    \n",
    "    titles: a Python list containing the titles of each book.\n",
    "    \n",
    "    '''\n",
    "    \n",
    "    \n",
    "    # YOUR CODE HERE\n",
    "    \n",
    "    return titles"
   ]
  },
  {
   "cell_type": "code",
   "execution_count": null,
   "metadata": {
    "deletable": false,
    "editable": false,
    "nbgrader": {
     "checksum": "a7f9fa16daae7e2d2bfd471b3df68947",
     "grade": true,
     "grade_id": "p5-test",
     "locked": true,
     "points": 1,
     "schema_version": 1,
     "solution": false
    }
   },
   "outputs": [],
   "source": [
    "book_titles = read_book_xml('./data/books.xml')\n",
    "\n",
    "assert_equal(book_titles, [\"XML Developer's Guide\", 'Midnight Rain', 'Maeve Ascendant', \"Oberon's Legacy\", \n",
    "                           'The Sundered Grail', 'Lover Birds', 'Splish Splash', 'Creepy Crawlies', 'Paradox Lost', \n",
    "                           'Microsoft .NET: The Programming Bible', 'MSXML3: A Comprehensive Guide', \n",
    "                           'Visual Studio 7: A Comprehensive Guide'])"
   ]
  },
  {
   "cell_type": "markdown",
   "metadata": {
    "deletable": false,
    "editable": false
   },
   "source": [
    "-----\n",
    "\n",
    "**&copy; 2018: Robert J. Brunner at the University of Illinois.**\n",
    "\n",
    "This notebook is released under the [Creative Commons license CC BY-NC-SA 4.0][ll]. Any reproduction, adaptation, distribution, dissemination or making available of this notebook for commercial use is not allowed unless authorized in writing by the copyright holder.\n",
    "\n",
    "[ll]: https://creativecommons.org/licenses/by-nc-sa/4.0/legalcode"
   ]
  }
 ],
 "metadata": {
  "anaconda-cloud": {},
  "coursera": {
   "course_slug": "data-analytics-accountancy-1",
   "graded_item_id": "a4XCf",
   "launcher_item_id": "g7QHY"
  },
  "kernelspec": {
   "display_name": "Python 3",
   "language": "python",
   "name": "python3"
  },
  "language_info": {
   "codemirror_mode": {
    "name": "ipython",
    "version": 3
   },
   "file_extension": ".py",
   "mimetype": "text/x-python",
   "name": "python",
   "nbconvert_exporter": "python",
   "pygments_lexer": "ipython3",
   "version": "3.6.5"
  }
 },
 "nbformat": 4,
 "nbformat_minor": 2
}
